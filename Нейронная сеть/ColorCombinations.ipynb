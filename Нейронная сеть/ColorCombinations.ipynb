{
 "cells": [
  {
   "cell_type": "code",
   "execution_count": 34,
   "metadata": {
    "scrolled": true
   },
   "outputs": [],
   "source": [
    "from keras import models\n",
    "from keras import layers\n",
    "from keras import backend"
   ]
  },
  {
   "cell_type": "code",
   "execution_count": 35,
   "metadata": {},
   "outputs": [],
   "source": [
    "import numpy as np\n",
    "import colorsys\n",
    "import sqlalchemy as db\n",
    "from ftplib import FTP"
   ]
  },
  {
   "cell_type": "code",
   "execution_count": 36,
   "metadata": {},
   "outputs": [],
   "source": [
    "import matplotlib.pyplot as plt\n",
    "import ipywidgets as widgets"
   ]
  },
  {
   "cell_type": "code",
   "execution_count": 37,
   "metadata": {},
   "outputs": [],
   "source": [
    "ftpFilePath = '/home/shiwarai/WebsiteForDownloading/Website/colors-sets.db'\n",
    "datasetPath = r\"C:\\Users\\bager\\YandexDisk\\Проекты\\RidrameCraft_сайт\\Нейронная сеть\\ColorCombinationsDataset\""
   ]
  },
  {
   "cell_type": "code",
   "execution_count": 38,
   "metadata": {},
   "outputs": [],
   "source": [
    "ftp = FTP('185.253.217.111','shiwarai','7412369pav')\n",
    "if ftp.getwelcome() != None:\n",
    "    with open(datasetPath + r'\\colors-sets.db', 'wb') as file:\n",
    "        ftp.retrbinary('RETR %s' % ftpFilePath, file.write)\n",
    "ftp.close()\n",
    "\n",
    "from sqlalchemy import create_engine\n",
    "engine = create_engine('sqlite:///'+datasetPath+r'\\colors-sets.db', echo=False)\n",
    "\n",
    "from sqlalchemy import Column, Integer, String, SmallInteger\n",
    "from sqlalchemy.orm import sessionmaker\n",
    "from sqlalchemy.ext.declarative import declarative_base\n",
    "\n",
    "Base = declarative_base()   \n",
    "class ColorCombination(Base):\n",
    "    __tablename__ = 'color_combination' \n",
    "    \n",
    "    num =  Column(Integer(),primary_key=True,autoincrement=True )\n",
    "    color_1 = Column(String(7),nullable=False)\n",
    "    color_2 = Column(String(7),nullable=False)\n",
    "    color_3 = Column(String(7),nullable=True)\n",
    "    color_4 = Column(String(7),nullable=True)\n",
    "    color_5 = Column(String(7),nullable=True)\n",
    "    size =  Column(SmallInteger(),nullable=False)\n",
    "\n",
    "    def __repr__(self):\n",
    "        return '<Color set #%d: %s,%s,%s,%s,%s [%d colors]>' % (self.num,self.color_1,self.color_2,self.color_3,self.color_4,self.color_5,self.size)\n",
    "\n",
    "Base.metadata.create_all(engine)\n",
    "session = sessionmaker(bind=engine)()"
   ]
  },
  {
   "cell_type": "code",
   "execution_count": 39,
   "metadata": {},
   "outputs": [],
   "source": [
    "# Функции для чтения данных\n",
    "\n",
    "def hex_to_rgb(h):\n",
    "    h = h[1:]\n",
    "    return tuple(int(h[i:i+2], 16) for i in (0, 2, 4))\n",
    "\n",
    "def rgb_to_hex(rgb):\n",
    "    return '#%02x%02x%02x' % (int(rgb[0]), int(rgb[1]), int(rgb[2]))\n",
    "\n",
    "def rgb_to_hsv(rgb):\n",
    "    r, g, b = [x/255.0 for x in [rgb[0], rgb[1], rgb[2]]]\n",
    "    h, l, s = colorsys.rgb_to_hsv(r, g, b)\n",
    "    return [h, l, s]\n",
    "\n",
    "def hsv_to_rgb(hsv):\n",
    "    r, g, b = colorsys.hsv_to_rgb(hsv[0], hsv[1], hsv[2])\n",
    "    r, g, b = [x*255.0 for x in [r, g, b]]\n",
    "    return [r, g, b]\n",
    "\n",
    "def hex_to_hsv(h):\n",
    "    return rgb_to_hsv(hex_to_rgb(h))\n",
    "\n",
    "def hsv_to_hex(hsv):\n",
    "    return rgb_to_hex(hsv_to_rgb(hsv))"
   ]
  },
  {
   "cell_type": "code",
   "execution_count": 40,
   "metadata": {
    "scrolled": true
   },
   "outputs": [
    {
     "name": "stdout",
     "output_type": "stream",
     "text": [
      "Train data:  376\n",
      "Validation data:  94\n",
      "Closing database...\n"
     ]
    }
   ],
   "source": [
    "input_dataset_train = list()\n",
    "output_dataset_train = list()\n",
    "\n",
    "color_combination_objects = session.query(ColorCombination).filter_by(size = 2)\n",
    "for color_comb_obj in color_combination_objects:\n",
    "    input_dataset_train.append(hex_to_rgb(color_comb_obj.color_1))\n",
    "    output_dataset_train.append(hex_to_rgb(color_comb_obj.color_2))\n",
    "    \n",
    "    input_dataset_train.append(hex_to_rgb(color_comb_obj.color_2))\n",
    "    output_dataset_train.append(hex_to_rgb(color_comb_obj.color_1))\n",
    "\n",
    "color_combination_objects = session.query(ColorCombination).filter_by(size = 3)\n",
    "for color_comb_obj in color_combination_objects:\n",
    "    input_dataset_train.append(hex_to_rgb(color_comb_obj.color_1))\n",
    "    output_dataset_train.append(hex_to_rgb(color_comb_obj.color_3))\n",
    "    \n",
    "    input_dataset_train.append(hex_to_rgb(color_comb_obj.color_3))\n",
    "    output_dataset_train.append(hex_to_rgb(color_comb_obj.color_1))\n",
    "    \n",
    "    input_dataset_train.append(hex_to_rgb(color_comb_obj.color_2))\n",
    "    output_dataset_train.append(hex_to_rgb(color_comb_obj.color_3))\n",
    "    \n",
    "    input_dataset_train.append(hex_to_rgb(color_comb_obj.color_3))\n",
    "    output_dataset_train.append(hex_to_rgb(color_comb_obj.color_2))\n",
    "    \n",
    "train_size = round(4/5*len(input_dataset_train))\n",
    "train_data = np.array([input_dataset_train[:train_size],output_dataset_train[:train_size]], dtype=\"int\")\n",
    "validation_data = np.array([input_dataset_train[train_size:],output_dataset_train[train_size:]], dtype=\"int\")\n",
    "\n",
    "print(\"Train data: \", train_size)\n",
    "print(\"Validation data: \", len(input_dataset_train) - train_size)\n",
    "\n",
    "print(\"Closing database...\")\n",
    "session.close()"
   ]
  },
  {
   "cell_type": "code",
   "execution_count": 41,
   "metadata": {},
   "outputs": [],
   "source": [
    "def build_model_shade():\n",
    "    model = models.Sequential()\n",
    "    model.add(layers.Dense(1028, activation='relu',input_shape = [3,]))\n",
    "    model.add(layers.Dropout(0.5, noise_shape=None, seed=None))\n",
    "    model.add(layers.Dense(3, activation='relu'))\n",
    "    model.compile(optimizer = 'rmsprop', loss = 'mse', metrics = ['mae'])\n",
    "    return model"
   ]
  },
  {
   "cell_type": "code",
   "execution_count": 42,
   "metadata": {},
   "outputs": [],
   "source": [
    "def build_model():\n",
    "    model = models.Sequential()\n",
    "    model.add(layers.Dense(256, activation='relu',input_shape = [3,]))\n",
    "    model.add(layers.Dropout(0.5, noise_shape=None, seed=None))\n",
    "    model.add(layers.Dense(64, activation='relu'))\n",
    "    model.add(layers.Dropout(0.4, noise_shape=None, seed=None))\n",
    "    model.add(layers.Dense(3, activation='relu'))\n",
    "    model.compile(optimizer = 'rmsprop', loss = 'mse', metrics = ['mae'])\n",
    "    return model"
   ]
  },
  {
   "cell_type": "code",
   "execution_count": 43,
   "metadata": {},
   "outputs": [],
   "source": [
    "def shuffle_in_unison(a, b):\n",
    "    rng_state = np.random.get_state()\n",
    "    np.random.shuffle(a)\n",
    "    np.random.set_state(rng_state)\n",
    "    np.random.shuffle(b)"
   ]
  },
  {
   "cell_type": "code",
   "execution_count": 44,
   "metadata": {
    "scrolled": true
   },
   "outputs": [
    {
     "name": "stdout",
     "output_type": "stream",
     "text": [
      "Model: \"sequential_4\"\n",
      "_________________________________________________________________\n",
      "Layer (type)                 Output Shape              Param #   \n",
      "=================================================================\n",
      "dense_11 (Dense)             (None, 256)               1024      \n",
      "_________________________________________________________________\n",
      "dropout_7 (Dropout)          (None, 256)               0         \n",
      "_________________________________________________________________\n",
      "dense_12 (Dense)             (None, 64)                16448     \n",
      "_________________________________________________________________\n",
      "dropout_8 (Dropout)          (None, 64)                0         \n",
      "_________________________________________________________________\n",
      "dense_13 (Dense)             (None, 3)                 195       \n",
      "=================================================================\n",
      "Total params: 17,667\n",
      "Trainable params: 17,667\n",
      "Non-trainable params: 0\n",
      "_________________________________________________________________\n"
     ]
    }
   ],
   "source": [
    "build_model().summary()"
   ]
  },
  {
   "cell_type": "code",
   "execution_count": 45,
   "metadata": {
    "scrolled": true
   },
   "outputs": [
    {
     "name": "stdout",
     "output_type": "stream",
     "text": [
      "Model: \"sequential_5\"\n",
      "_________________________________________________________________\n",
      "Layer (type)                 Output Shape              Param #   \n",
      "=================================================================\n",
      "dense_14 (Dense)             (None, 1028)              4112      \n",
      "_________________________________________________________________\n",
      "dropout_9 (Dropout)          (None, 1028)              0         \n",
      "_________________________________________________________________\n",
      "dense_15 (Dense)             (None, 3)                 3087      \n",
      "=================================================================\n",
      "Total params: 7,199\n",
      "Trainable params: 7,199\n",
      "Non-trainable params: 0\n",
      "_________________________________________________________________\n"
     ]
    }
   ],
   "source": [
    "build_model_shade().summary()"
   ]
  },
  {
   "cell_type": "markdown",
   "metadata": {},
   "source": [
    "shuffle_in_unison(train_data[0],train_data[1])\n",
    "history_dict = model.fit(train_data[0],train_data[1],epochs = 200, batch_size = 64, validation_data = (validation_data[0],validation_data[1])).history"
   ]
  },
  {
   "cell_type": "code",
   "execution_count": 58,
   "metadata": {
    "scrolled": true
   },
   "outputs": [
    {
     "name": "stdout",
     "output_type": "stream",
     "text": [
      "Epoch 1/50\n",
      "12/12 [==============================] - 2s 40ms/step - loss: 12109.4769 - mae: 90.7045 - val_loss: 5144.9111 - val_mae: 57.8837\n",
      "Epoch 2/50\n",
      "12/12 [==============================] - 0s 4ms/step - loss: 8035.4885 - mae: 73.6700 - val_loss: 5000.0327 - val_mae: 56.6684\n",
      "Epoch 3/50\n",
      "12/12 [==============================] - 0s 5ms/step - loss: 7808.0777 - mae: 72.7839 - val_loss: 5155.9565 - val_mae: 57.8946\n",
      "Epoch 4/50\n",
      "12/12 [==============================] - 0s 7ms/step - loss: 8418.9855 - mae: 75.5877 - val_loss: 4957.2788 - val_mae: 56.3278\n",
      "Epoch 5/50\n",
      "12/12 [==============================] - 0s 6ms/step - loss: 7947.4179 - mae: 73.5765 - val_loss: 5110.8716 - val_mae: 57.4628\n",
      "Epoch 6/50\n",
      "12/12 [==============================] - 0s 6ms/step - loss: 6989.5057 - mae: 69.3004 - val_loss: 5318.7295 - val_mae: 58.8004\n",
      "Epoch 7/50\n",
      "12/12 [==============================] - 0s 6ms/step - loss: 7096.1853 - mae: 70.5687 - val_loss: 5326.2578 - val_mae: 58.9023\n",
      "Epoch 8/50\n",
      "12/12 [==============================] - 0s 7ms/step - loss: 6803.7175 - mae: 67.8300 - val_loss: 5227.4253 - val_mae: 58.1156\n",
      "Epoch 9/50\n",
      "12/12 [==============================] - 0s 6ms/step - loss: 7305.2957 - mae: 70.8675 - val_loss: 5315.4268 - val_mae: 58.8070\n",
      "Epoch 10/50\n",
      "12/12 [==============================] - 0s 4ms/step - loss: 7111.1841 - mae: 70.3040 - val_loss: 5458.8042 - val_mae: 59.4433\n",
      "Epoch 11/50\n",
      "12/12 [==============================] - 0s 4ms/step - loss: 7325.7041 - mae: 71.4193 - val_loss: 5627.5566 - val_mae: 60.4522\n",
      "Epoch 12/50\n",
      "12/12 [==============================] - 0s 4ms/step - loss: 6608.6789 - mae: 67.6436 - val_loss: 5066.3330 - val_mae: 56.9912\n",
      "Epoch 13/50\n",
      "12/12 [==============================] - 0s 5ms/step - loss: 7216.2068 - mae: 71.2976 - val_loss: 5091.4297 - val_mae: 56.9738\n",
      "Epoch 14/50\n",
      "12/12 [==============================] - 0s 5ms/step - loss: 6711.6235 - mae: 67.9580 - val_loss: 5016.9521 - val_mae: 56.4714\n",
      "Epoch 15/50\n",
      "12/12 [==============================] - 0s 5ms/step - loss: 7662.6354 - mae: 71.5902 - val_loss: 5687.6636 - val_mae: 60.6617\n",
      "Epoch 16/50\n",
      "12/12 [==============================] - 0s 5ms/step - loss: 6831.0581 - mae: 69.5823 - val_loss: 5153.3701 - val_mae: 57.3756\n",
      "Epoch 17/50\n",
      "12/12 [==============================] - 0s 5ms/step - loss: 6961.0589 - mae: 69.1115 - val_loss: 5199.1025 - val_mae: 57.8217\n",
      "Epoch 18/50\n",
      "12/12 [==============================] - 0s 5ms/step - loss: 6294.7261 - mae: 65.9555 - val_loss: 5168.5166 - val_mae: 57.7146\n",
      "Epoch 19/50\n",
      "12/12 [==============================] - 0s 5ms/step - loss: 6348.7570 - mae: 67.8507 - val_loss: 5173.6445 - val_mae: 57.5117\n",
      "Epoch 20/50\n",
      "12/12 [==============================] - 0s 5ms/step - loss: 6654.1538 - mae: 68.2388 - val_loss: 5161.3330 - val_mae: 57.4300\n",
      "Epoch 21/50\n",
      "12/12 [==============================] - 0s 4ms/step - loss: 6935.0860 - mae: 69.0559 - val_loss: 5608.7808 - val_mae: 60.3063\n",
      "Epoch 22/50\n",
      "12/12 [==============================] - 0s 4ms/step - loss: 6952.3325 - mae: 69.4461 - val_loss: 5566.4150 - val_mae: 59.9652\n",
      "Epoch 23/50\n",
      "12/12 [==============================] - 0s 5ms/step - loss: 6652.4229 - mae: 68.0943 - val_loss: 5734.6382 - val_mae: 60.9872\n",
      "Epoch 24/50\n",
      "12/12 [==============================] - 0s 4ms/step - loss: 6315.1242 - mae: 65.8727 - val_loss: 5073.5044 - val_mae: 56.9336\n",
      "Epoch 25/50\n",
      "12/12 [==============================] - 0s 5ms/step - loss: 6844.0973 - mae: 68.3796 - val_loss: 5501.3696 - val_mae: 59.6937\n",
      "Epoch 26/50\n",
      "12/12 [==============================] - 0s 5ms/step - loss: 6316.3091 - mae: 67.1526 - val_loss: 5426.7046 - val_mae: 59.2379\n",
      "Epoch 27/50\n",
      "12/12 [==============================] - 0s 4ms/step - loss: 6103.9560 - mae: 65.0053 - val_loss: 5109.9424 - val_mae: 57.2897\n",
      "Epoch 28/50\n",
      "12/12 [==============================] - 0s 4ms/step - loss: 6586.4645 - mae: 66.5030 - val_loss: 5369.6113 - val_mae: 58.8258\n",
      "Epoch 29/50\n",
      "12/12 [==============================] - 0s 5ms/step - loss: 6317.5501 - mae: 66.5908 - val_loss: 5076.0337 - val_mae: 56.9114\n",
      "Epoch 30/50\n",
      "12/12 [==============================] - 0s 5ms/step - loss: 6639.4862 - mae: 68.0834 - val_loss: 5001.1006 - val_mae: 56.3687\n",
      "Epoch 31/50\n",
      "12/12 [==============================] - 0s 5ms/step - loss: 6517.9195 - mae: 67.7296 - val_loss: 5540.1885 - val_mae: 59.7944\n",
      "Epoch 32/50\n",
      "12/12 [==============================] - 0s 5ms/step - loss: 6905.2699 - mae: 69.4474 - val_loss: 5172.0776 - val_mae: 57.6883\n",
      "Epoch 33/50\n",
      "12/12 [==============================] - 0s 5ms/step - loss: 6615.1506 - mae: 67.5509 - val_loss: 5137.1733 - val_mae: 57.3376\n",
      "Epoch 34/50\n",
      "12/12 [==============================] - 0s 5ms/step - loss: 6863.1312 - mae: 69.9570 - val_loss: 5526.8423 - val_mae: 59.8263\n",
      "Epoch 35/50\n",
      "12/12 [==============================] - 0s 4ms/step - loss: 6703.5083 - mae: 68.0257 - val_loss: 5092.3101 - val_mae: 57.0717\n",
      "Epoch 36/50\n",
      "12/12 [==============================] - 0s 5ms/step - loss: 6559.8554 - mae: 67.8642 - val_loss: 5195.9717 - val_mae: 57.8636\n",
      "Epoch 37/50\n",
      "12/12 [==============================] - 0s 4ms/step - loss: 6678.9165 - mae: 68.0385 - val_loss: 5114.1621 - val_mae: 57.3486\n",
      "Epoch 38/50\n",
      "12/12 [==============================] - 0s 4ms/step - loss: 6629.1986 - mae: 67.3427 - val_loss: 5007.3384 - val_mae: 56.5014\n",
      "Epoch 39/50\n",
      "12/12 [==============================] - 0s 4ms/step - loss: 6900.6900 - mae: 68.7059 - val_loss: 5145.5264 - val_mae: 57.5857\n",
      "Epoch 40/50\n",
      "12/12 [==============================] - 0s 4ms/step - loss: 6240.0279 - mae: 66.3813 - val_loss: 5004.6270 - val_mae: 56.5757\n",
      "Epoch 41/50\n",
      "12/12 [==============================] - 0s 6ms/step - loss: 6477.3793 - mae: 66.7680 - val_loss: 5121.1143 - val_mae: 57.4230\n",
      "Epoch 42/50\n",
      "12/12 [==============================] - 0s 5ms/step - loss: 6023.9947 - mae: 65.1392 - val_loss: 5029.5435 - val_mae: 56.7447\n",
      "Epoch 43/50\n",
      "12/12 [==============================] - 0s 5ms/step - loss: 7076.1433 - mae: 70.4868 - val_loss: 5250.2632 - val_mae: 58.2793\n",
      "Epoch 44/50\n",
      "12/12 [==============================] - 0s 6ms/step - loss: 6686.9069 - mae: 67.6821 - val_loss: 5647.3340 - val_mae: 60.5868\n",
      "Epoch 45/50\n",
      "12/12 [==============================] - 0s 5ms/step - loss: 6694.7644 - mae: 68.9484 - val_loss: 5085.5918 - val_mae: 57.1567\n",
      "Epoch 46/50\n",
      "12/12 [==============================] - 0s 4ms/step - loss: 6267.9526 - mae: 66.0836 - val_loss: 5149.9902 - val_mae: 57.6386\n",
      "Epoch 47/50\n",
      "12/12 [==============================] - 0s 4ms/step - loss: 6566.5059 - mae: 67.6248 - val_loss: 5238.9756 - val_mae: 58.2080\n",
      "Epoch 48/50\n",
      "12/12 [==============================] - 0s 4ms/step - loss: 6289.4743 - mae: 66.5315 - val_loss: 5071.9600 - val_mae: 57.0096\n",
      "Epoch 49/50\n",
      "12/12 [==============================] - 0s 4ms/step - loss: 6471.1325 - mae: 67.3988 - val_loss: 5105.8174 - val_mae: 57.3224\n",
      "Epoch 50/50\n",
      "12/12 [==============================] - 0s 5ms/step - loss: 6337.8199 - mae: 66.4441 - val_loss: 4777.9375 - val_mae: 54.8108\n"
     ]
    }
   ],
   "source": [
    "def build_and_fit():\n",
    "    model = build_model()\n",
    "    shuffle_in_unison(train_data[0],train_data[1])\n",
    "    shuffle_in_unison(validation_data[0],validation_data[1])\n",
    "    return [model, model.fit(train_data[0],train_data[1],epochs = 50, batch_size = 32, validation_data = (validation_data[0],validation_data[1])).history]\n",
    "    \n",
    "generated_model = build_and_fit()\n",
    "model = generated_model[0]\n",
    "history_dict = generated_model[1]\n",
    "del generated_model"
   ]
  },
  {
   "cell_type": "code",
   "execution_count": 59,
   "metadata": {
    "scrolled": true
   },
   "outputs": [
    {
     "name": "stdout",
     "output_type": "stream",
     "text": [
      "Min num: 49\n",
      "Min value: 54.81080627441406\n"
     ]
    },
    {
     "data": {
      "image/png": "[encoded data removed]",
      "text/plain": [
       "<Figure size 432x288 with 1 Axes>"
      ]
     },
     "metadata": {
      "needs_background": "light"
     },
     "output_type": "display_data"
    }
   ],
   "source": [
    "best_epoch = history_dict['val_mae'].index(min(history_dict['val_mae']))\n",
    "\n",
    "print(\"Min num:\", best_epoch)\n",
    "print(\"Min value:\", history_dict['val_mae'][best_epoch])\n",
    "\n",
    "epochs = range(1,len(history_dict) + 1)\n",
    "\n",
    "def curve(points):\n",
    "    return points\n",
    "\n",
    "smooth_mae_history = curve(history_dict['val_mae'])\n",
    "epochs = range(1,len(history_dict['val_mae'])+1)\n",
    "\n",
    "\n",
    "plt.plot(epochs,smooth_mae_history,'b',label = 'Average MAE')\n",
    "plt.title('MAE')\n",
    "plt.xlabel(\"Epochs\")\n",
    "plt.ylabel('Color points')\n",
    "plt.legend()\n",
    "plt.show()"
   ]
  },
  {
   "cell_type": "code",
   "execution_count": 60,
   "metadata": {},
   "outputs": [
    {
     "name": "stdout",
     "output_type": "stream",
     "text": [
      "Final value: 54.81080627441406\n"
     ]
    }
   ],
   "source": [
    "print(\"Final value:\", history_dict['val_mae'][len(history_dict['val_mae'])-1])"
   ]
  },
  {
   "cell_type": "code",
   "execution_count": 49,
   "metadata": {},
   "outputs": [
    {
     "data": {
      "text/plain": [
       "[[118, 86, 119]]"
      ]
     },
     "execution_count": 49,
     "metadata": {},
     "output_type": "execute_result"
    }
   ],
   "source": [
    "def post_processing(colors):\n",
    "    '''\n",
    "    for i in range(len(colors)):\n",
    "        colors[i] = hsv_to_rgb(colors[i])\n",
    "    '''\n",
    "    \n",
    "    processed_colors = list()\n",
    "    for color in colors:\n",
    "        red = color[0]\n",
    "        green = color[1]\n",
    "        blue = color[2]\n",
    "        \n",
    "        # Увеличим доминирующий цвет\n",
    "        dominant_color = colors.argmax()\n",
    "        passive_color = colors.argmax()\n",
    "        \n",
    "        if dominant_color == 0:\n",
    "            red *= 1.2\n",
    "        elif dominant_color == 1:\n",
    "            green *= 1.2\n",
    "        elif dominant_color == 2:\n",
    "            blue *= 1.2\n",
    "            \n",
    "        if passive_color == 0:\n",
    "            red *= 0.8\n",
    "        elif passive_color == 1:\n",
    "            green *= 0.8\n",
    "        elif passive_color == 2:\n",
    "            blue *= 0.8\n",
    "        \n",
    "        red = min(round(red), 255)\n",
    "        green = min(round(green), 255)\n",
    "        blue = min(round(blue), 255)\n",
    "\n",
    "        processed_colors.append([red, green, blue])\n",
    "\n",
    "    return processed_colors\n",
    "\n",
    "# Предсказание\n",
    "def predict(rgb_colors_set):\n",
    "    '''\n",
    "    hsv_colors_set = list()\n",
    "    for color_set in rgb_colors_set:\n",
    "        hsv_colors_set.append(rgb_to_hsv(color_set))\n",
    "    '''\n",
    "    \n",
    "    prediction = post_processing(model.predict(np.array(rgb_colors_set)))\n",
    "\n",
    "    return prediction\n",
    "predict([[22,22,200],])"
   ]
  },
  {
   "cell_type": "code",
   "execution_count": 50,
   "metadata": {},
   "outputs": [],
   "source": [
    "color_picker_1 = widgets.ColorPicker(concise=False, value = '#ffffff', description='Pick a color №1')\n",
    "color_picker_2 = widgets.ColorPicker(concise=False, value = '#ffffff', description='Pick a color №2')\n",
    "color_picker_3 = widgets.ColorPicker(concise=False, value = '#ffffff', description='Pick a color №3')\n",
    "color_picker_4 = widgets.ColorPicker(concise=False, value = '#ffffff', description='Pick a color №4')\n",
    "color_picker_5 = widgets.ColorPicker(concise=False, value = '#ffffff', description='Pick a color №5')"
   ]
  },
  {
   "cell_type": "code",
   "execution_count": 51,
   "metadata": {
    "scrolled": true
   },
   "outputs": [
    {
     "data": {
      "application/vnd.jupyter.widget-view+json": {
       "model_id": "35ee27cacd7d4aaba0cc120ac8ad13f5",
       "version_major": 2,
       "version_minor": 0
      },
      "text/plain": [
       "ColorPicker(value='#ffffff', description='Pick a color №1')"
      ]
     },
     "metadata": {},
     "output_type": "display_data"
    }
   ],
   "source": [
    "color_picker_1"
   ]
  },
  {
   "cell_type": "code",
   "execution_count": 52,
   "metadata": {},
   "outputs": [
    {
     "data": {
      "application/vnd.jupyter.widget-view+json": {
       "model_id": "429508202ea64016acc81d481039e5b5",
       "version_major": 2,
       "version_minor": 0
      },
      "text/plain": [
       "ColorPicker(value='#ffffff', description='Pick a color №2')"
      ]
     },
     "metadata": {},
     "output_type": "display_data"
    }
   ],
   "source": [
    "color_picker_2"
   ]
  },
  {
   "cell_type": "code",
   "execution_count": 53,
   "metadata": {},
   "outputs": [
    {
     "data": {
      "application/vnd.jupyter.widget-view+json": {
       "model_id": "ac15a171a69742899faaa56ab82e8305",
       "version_major": 2,
       "version_minor": 0
      },
      "text/plain": [
       "ColorPicker(value='#ffffff', description='Pick a color №3')"
      ]
     },
     "metadata": {},
     "output_type": "display_data"
    }
   ],
   "source": [
    "color_picker_3"
   ]
  },
  {
   "cell_type": "code",
   "execution_count": 54,
   "metadata": {},
   "outputs": [
    {
     "data": {
      "application/vnd.jupyter.widget-view+json": {
       "model_id": "be4df11397754999953d22c191b7024a",
       "version_major": 2,
       "version_minor": 0
      },
      "text/plain": [
       "ColorPicker(value='#ffffff', description='Pick a color №4')"
      ]
     },
     "metadata": {},
     "output_type": "display_data"
    }
   ],
   "source": [
    "color_picker_4"
   ]
  },
  {
   "cell_type": "code",
   "execution_count": 55,
   "metadata": {},
   "outputs": [
    {
     "data": {
      "application/vnd.jupyter.widget-view+json": {
       "model_id": "08b868a6d4024222b9ebf7a107525685",
       "version_major": 2,
       "version_minor": 0
      },
      "text/plain": [
       "ColorPicker(value='#ffffff', description='Pick a color №5')"
      ]
     },
     "metadata": {},
     "output_type": "display_data"
    }
   ],
   "source": [
    "color_picker_5"
   ]
  },
  {
   "cell_type": "code",
   "execution_count": 61,
   "metadata": {
    "scrolled": false
   },
   "outputs": [
    {
     "name": "stdout",
     "output_type": "stream",
     "text": [
      "[(224, 62, 62), [156, 148, 152]]\n",
      "[(209, 113, 113), [134, 126, 128]]\n",
      "[(46, 108, 209), [134, 139, 119]]\n",
      "[(70, 210, 105), [107, 128, 129]]\n",
      "[(241, 203, 65), [149, 151, 137]]\n"
     ]
    },
    {
     "data": {
      "image/png": "[encoded data removed]",
      "text/plain": [
       "<Figure size 432x288 with 1 Axes>"
      ]
     },
     "metadata": {
      "needs_background": "light"
     },
     "output_type": "display_data"
    }
   ],
   "source": [
    "color_sets = [hex_to_rgb(color_picker_1.value),hex_to_rgb(color_picker_2.value),hex_to_rgb(color_picker_3.value),hex_to_rgb(color_picker_4.value),hex_to_rgb(color_picker_5.value)]\n",
    "sets_and_predictions = list()\n",
    "for color_set in color_sets:\n",
    "    sets_and_predictions.append([color_set, predict([color_set,])[0]])\n",
    "    \n",
    "fig, ax = plt.subplots()\n",
    "ax.set_xlim((0, len(sets_and_predictions) + 0.2))\n",
    "\n",
    "circle_counter = 0.5\n",
    "for set_and_prediction in sets_and_predictions:\n",
    "    print(set_and_prediction)\n",
    "    ax.add_patch(plt.Circle((circle_counter, 0.5), 0.3, color=rgb_to_hex(set_and_prediction[0])))\n",
    "    ax.add_patch(plt.Circle((circle_counter + 0.2, 0.5), 0.3, color=rgb_to_hex(set_and_prediction[1])))\n",
    "    circle_counter += 1"
   ]
  },
  {
   "cell_type": "code",
   "execution_count": null,
   "metadata": {},
   "outputs": [],
   "source": []
  }
 ],
 "metadata": {
  "kernelspec": {
   "display_name": "Python 3 (ipykernel)",
   "language": "python",
   "name": "python3"
  },
  "language_info": {
   "codemirror_mode": {
    "name": "ipython",
    "version": 3
   },
   "file_extension": ".py",
   "mimetype": "text/x-python",
   "name": "python",
   "nbconvert_exporter": "python",
   "pygments_lexer": "ipython3",
   "version": "3.8.10"
  }
 },
 "nbformat": 4,
 "nbformat_minor": 4
}
